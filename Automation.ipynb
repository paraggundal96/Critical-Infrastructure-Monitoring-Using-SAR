{
 "cells": [
  {
   "cell_type": "code",
   "execution_count": 48,
   "id": "e8fc917e-1cc1-4f65-abbf-360b741b6d29",
   "metadata": {},
   "outputs": [],
   "source": [
    "from esa_snappy import ProductIO, HashMap, GPF, Product, ProductData"
   ]
  },
  {
   "cell_type": "code",
   "execution_count": 49,
   "id": "5be654ad-a6c7-4582-81c5-0fdee79408e9",
   "metadata": {},
   "outputs": [],
   "source": [
    "import jpy"
   ]
  },
  {
   "cell_type": "code",
   "execution_count": 50,
   "id": "f16ce428-5fa3-41fd-afa9-3a85a225690f",
   "metadata": {},
   "outputs": [],
   "source": [
    "Integer = jpy.get_type(\"java.lang.Integer\")\n",
    "HashMap = jpy.get_type(\"java.util.HashMap\")"
   ]
  },
  {
   "cell_type": "code",
   "execution_count": 51,
   "id": "7d8411fb-bb1a-4bd9-aa03-8fe1dad9180c",
   "metadata": {},
   "outputs": [],
   "source": [
    "import matplotlib.pyplot as plt\n",
    "import numpy as np\n",
    "import os\n",
    "import subprocess\n",
    "import glob\n"
   ]
  },
  {
   "cell_type": "code",
   "execution_count": 181,
   "id": "c587704d-8b6e-49b8-8fcd-10d02e77da6e",
   "metadata": {},
   "outputs": [
    {
     "name": "stdout",
     "output_type": "stream",
     "text": [
      "Usage:\n",
      "  gpt Terrain-Correction [options] \n",
      "\n",
      "Description:\n",
      "  RD method for orthorectification\n",
      "\n",
      "\n",
      "Source Options:\n",
      "  -Ssource=<file>    Sets source 'source' to <filepath>.\n",
      "                     This is a mandatory source.\n",
      "\n",
      "Parameter Options:\n",
      "  -PalignToStandardGrid=<boolean>                 Force the image grid to be aligned with a specific point\n",
      "                                                  Default value is 'false'.\n",
      "  -PapplyRadiometricNormalization=<boolean>       Sets parameter 'applyRadiometricNormalization' to <boolean>.\n",
      "                                                  Default value is 'false'.\n",
      "  -PauxFile=<string>                              The auxiliary file\n",
      "                                                  Value must be one of 'Latest Auxiliary File', 'Product Auxiliary File', 'External Auxiliary File'.\n",
      "                                                  Default value is 'Latest Auxiliary File'.\n",
      "  -PdemName=<string>                              The digital elevation model.\n",
      "                                                  Default value is 'SRTM 3Sec'.\n",
      "  -PdemResamplingMethod=<string>                  Sets parameter 'demResamplingMethod' to <string>.\n",
      "                                                  Value must be one of 'NEAREST_NEIGHBOUR', 'BILINEAR_INTERPOLATION', 'CUBIC_CONVOLUTION', 'BISINC_5_POINT_INTERPOLATION', 'BISINC_11_POINT_INTERPOLATION', 'BISINC_21_POINT_INTERPOLATION', 'BICUBIC_INTERPOLATION', 'DELAUNAY_INTERPOLATION'.\n",
      "                                                  Default value is 'BILINEAR_INTERPOLATION'.\n",
      "  -PexternalAuxFile=<file>                        The antenne elevation pattern gain auxiliary data file.\n",
      "  -PexternalDEMApplyEGM=<boolean>                 Sets parameter 'externalDEMApplyEGM' to <boolean>.\n",
      "                                                  Default value is 'true'.\n",
      "  -PexternalDEMFile=<file>                        Sets parameter 'externalDEMFile' to <file>.\n",
      "  -PexternalDEMNoDataValue=<double>               Sets parameter 'externalDEMNoDataValue' to <double>.\n",
      "                                                  Default value is '0'.\n",
      "  -PimgResamplingMethod=<string>                  Sets parameter 'imgResamplingMethod' to <string>.\n",
      "                                                  Value must be one of 'NEAREST_NEIGHBOUR', 'BILINEAR_INTERPOLATION', 'CUBIC_CONVOLUTION', 'BISINC_5_POINT_INTERPOLATION', 'BISINC_11_POINT_INTERPOLATION', 'BISINC_21_POINT_INTERPOLATION', 'BICUBIC_INTERPOLATION'.\n",
      "                                                  Default value is 'BILINEAR_INTERPOLATION'.\n",
      "  -PincidenceAngleForGamma0=<string>              Sets parameter 'incidenceAngleForGamma0' to <string>.\n",
      "                                                  Value must be one of 'Use incidence angle from Ellipsoid', 'Use local incidence angle from DEM', 'Use projected local incidence angle from DEM'.\n",
      "                                                  Default value is 'Use projected local incidence angle from DEM'.\n",
      "  -PincidenceAngleForSigma0=<string>              Sets parameter 'incidenceAngleForSigma0' to <string>.\n",
      "                                                  Value must be one of 'Use incidence angle from Ellipsoid', 'Use local incidence angle from DEM', 'Use projected local incidence angle from DEM'.\n",
      "                                                  Default value is 'Use projected local incidence angle from DEM'.\n",
      "  -PmapProjection=<string>                        The coordinate reference system in well known text format\n",
      "                                                  Default value is 'WGS84(DD)'.\n",
      "  -PnodataValueAtSea=<boolean>                    Mask the sea with no data value (faster)\n",
      "                                                  Default value is 'true'.\n",
      "  -PoutputComplex=<boolean>                       Sets parameter 'outputComplex' to <boolean>.\n",
      "                                                  Default value is 'false'.\n",
      "  -PpixelSpacingInDegree=<double>                 The pixel spacing in degrees\n",
      "                                                  Default value is '0'.\n",
      "  -PpixelSpacingInMeter=<double>                  The pixel spacing in meters\n",
      "                                                  Default value is '0'.\n",
      "  -PsaveBetaNought=<boolean>                      Sets parameter 'saveBetaNought' to <boolean>.\n",
      "                                                  Default value is 'false'.\n",
      "  -PsaveDEM=<boolean>                             Sets parameter 'saveDEM' to <boolean>.\n",
      "                                                  Default value is 'false'.\n",
      "  -PsaveGammaNought=<boolean>                     Sets parameter 'saveGammaNought' to <boolean>.\n",
      "                                                  Default value is 'false'.\n",
      "  -PsaveIncidenceAngleFromEllipsoid=<boolean>     Sets parameter 'saveIncidenceAngleFromEllipsoid' to <boolean>.\n",
      "                                                  Default value is 'false'.\n",
      "  -PsaveLatLon=<boolean>                          Sets parameter 'saveLatLon' to <boolean>.\n",
      "                                                  Default value is 'false'.\n",
      "  -PsaveLayoverShadowMask=<boolean>               Sets parameter 'saveLayoverShadowMask' to <boolean>.\n",
      "                                                  Default value is 'false'.\n",
      "  -PsaveLocalIncidenceAngle=<boolean>             Sets parameter 'saveLocalIncidenceAngle' to <boolean>.\n",
      "                                                  Default value is 'false'.\n",
      "  -PsaveProjectedLocalIncidenceAngle=<boolean>    Sets parameter 'saveProjectedLocalIncidenceAngle' to <boolean>.\n",
      "                                                  Default value is 'false'.\n",
      "  -PsaveSelectedSourceBand=<boolean>              Sets parameter 'saveSelectedSourceBand' to <boolean>.\n",
      "                                                  Default value is 'true'.\n",
      "  -PsaveSigmaNought=<boolean>                     Sets parameter 'saveSigmaNought' to <boolean>.\n",
      "                                                  Default value is 'false'.\n",
      "  -PsourceBands=<string,string,string,...>        The list of source bands.\n",
      "  -PstandardGridOriginX=<double>                  x-coordinate of the standard grid's origin point\n",
      "                                                  Default value is '0'.\n",
      "  -PstandardGridOriginY=<double>                  y-coordinate of the standard grid's origin point\n",
      "                                                  Default value is '0'.\n",
      "\n",
      "Graph XML Format:\n",
      "  <graph id=\"someGraphId\">\n",
      "    <version>1.0</version>\n",
      "    <node id=\"someNodeId\">\n",
      "      <operator>Terrain-Correction</operator>\n",
      "      <sources>\n",
      "        <source>${source}</source>\n",
      "      </sources>\n",
      "      <parameters>\n",
      "        <sourceBands>string,string,string,...</sourceBands>\n",
      "        <demName>string</demName>\n",
      "        <externalDEMFile>file</externalDEMFile>\n",
      "        <externalDEMNoDataValue>double</externalDEMNoDataValue>\n",
      "        <externalDEMApplyEGM>boolean</externalDEMApplyEGM>\n",
      "        <demResamplingMethod>string</demResamplingMethod>\n",
      "        <imgResamplingMethod>string</imgResamplingMethod>\n",
      "        <pixelSpacingInMeter>double</pixelSpacingInMeter>\n",
      "        <pixelSpacingInDegree>double</pixelSpacingInDegree>\n",
      "        <mapProjection>string</mapProjection>\n",
      "        <alignToStandardGrid>boolean</alignToStandardGrid>\n",
      "        <standardGridOriginX>double</standardGridOriginX>\n",
      "        <standardGridOriginY>double</standardGridOriginY>\n",
      "        <nodataValueAtSea>boolean</nodataValueAtSea>\n",
      "        <saveDEM>boolean</saveDEM>\n",
      "        <saveLatLon>boolean</saveLatLon>\n",
      "        <saveIncidenceAngleFromEllipsoid>boolean</saveIncidenceAngleFromEllipsoid>\n",
      "        <saveLocalIncidenceAngle>boolean</saveLocalIncidenceAngle>\n",
      "        <saveProjectedLocalIncidenceAngle>boolean</saveProjectedLocalIncidenceAngle>\n",
      "        <saveSelectedSourceBand>boolean</saveSelectedSourceBand>\n",
      "        <saveLayoverShadowMask>boolean</saveLayoverShadowMask>\n",
      "        <outputComplex>boolean</outputComplex>\n",
      "        <applyRadiometricNormalization>boolean</applyRadiometricNormalization>\n",
      "        <saveSigmaNought>boolean</saveSigmaNought>\n",
      "        <saveGammaNought>boolean</saveGammaNought>\n",
      "        <saveBetaNought>boolean</saveBetaNought>\n",
      "        <incidenceAngleForSigma0>string</incidenceAngleForSigma0>\n",
      "        <incidenceAngleForGamma0>string</incidenceAngleForGamma0>\n",
      "        <auxFile>string</auxFile>\n",
      "        <externalAuxFile>file</externalAuxFile>\n",
      "      </parameters>\n",
      "    </node>\n",
      "  </graph>\n",
      "\n"
     ]
    }
   ],
   "source": [
    "print(subprocess.Popen(['gpt','-h','Terrain-Correction'],stdout=subprocess.PIPE, universal_newlines=True).communicate()[0])\n"
   ]
  },
  {
   "cell_type": "code",
   "execution_count": 53,
   "id": "251b3d35-20c2-4673-9ff1-5fc5950e4190",
   "metadata": {},
   "outputs": [
    {
     "name": "stdout",
     "output_type": "stream",
     "text": [
      "['i_IW1_VH', 'q_IW1_VH', 'Intensity_IW1_VH', 'i_IW1_VV', 'q_IW1_VV', 'Intensity_IW1_VV', 'i_IW2_VH', 'q_IW2_VH', 'Intensity_IW2_VH', 'i_IW2_VV', 'q_IW2_VV', 'Intensity_IW2_VV', 'i_IW3_VH', 'q_IW3_VH', 'Intensity_IW3_VH', 'i_IW3_VV', 'q_IW3_VV', 'Intensity_IW3_VV']\n"
     ]
    }
   ],
   "source": [
    "image1 = ProductIO.readProduct(\"D:\\SAR\\BARC\\postMonsoon\\S1A_IW_SLC__1SDV_20231021T010332_20231021T010400_050856_06213A_CD75.SAFE.zip\")\n",
    "print(list(image1.getBandNames()))"
   ]
  },
  {
   "cell_type": "code",
   "execution_count": 54,
   "id": "8fa4e6bb-d38f-4eea-ac51-6b37659b05a6",
   "metadata": {},
   "outputs": [
    {
     "name": "stdout",
     "output_type": "stream",
     "text": [
      "['i_IW1_VH', 'q_IW1_VH', 'Intensity_IW1_VH', 'i_IW1_VV', 'q_IW1_VV', 'Intensity_IW1_VV', 'i_IW2_VH', 'q_IW2_VH', 'Intensity_IW2_VH', 'i_IW2_VV', 'q_IW2_VV', 'Intensity_IW2_VV', 'i_IW3_VH', 'q_IW3_VH', 'Intensity_IW3_VH', 'i_IW3_VV', 'q_IW3_VV', 'Intensity_IW3_VV']\n"
     ]
    }
   ],
   "source": [
    "image2 = ProductIO.readProduct(\"D:\\SAR\\BARC\\postMonsoon\\S1A_IW_SLC__1SDV_20231102T010332_20231102T010359_051031_062740_1C6B.SAFE.zip\")\n",
    "print(list(image2.getBandNames()))"
   ]
  },
  {
   "cell_type": "code",
   "execution_count": 55,
   "id": "3bb8d601-50a2-489a-99e6-8deea3c5b385",
   "metadata": {},
   "outputs": [],
   "source": [
    "def load_sar_data(file_path):\n",
    "    return ProductIO.readProduct(file_path)"
   ]
  },
  {
   "cell_type": "code",
   "execution_count": 56,
   "id": "e871e433-5899-4ec9-95be-f5c337ee7bfa",
   "metadata": {},
   "outputs": [],
   "source": [
    "def apply_operator(operator_name, parameters, *sources):\n",
    "    params = HashMap()\n",
    "    for key, value in parameters.items():\n",
    "        params.put(key, value)\n",
    "    return GPF.createProduct(operator_name, params, list(sources))"
   ]
  },
  {
   "cell_type": "code",
   "execution_count": 57,
   "id": "9d182fb8-884d-461f-9416-fa5573dd83a6",
   "metadata": {},
   "outputs": [],
   "source": [
    "# BARC AOI coordinates (WKT Polygon)\n",
    "barc_aoi = 'POLYGON((72.930559 19.005872, 72.912912 19.005872, 72.912912 19.023823, 72.930559 19.023823, 72.930559 19.005872))'"
   ]
  },
  {
   "cell_type": "code",
   "execution_count": 58,
   "id": "632c729f-62d1-4388-89be-a152e3eefbe5",
   "metadata": {},
   "outputs": [],
   "source": [
    "pre_event = load_sar_data(\"D:\\SAR\\BARC\\postMonsoon\\S1A_IW_SLC__1SDV_20231021T010332_20231021T010400_050856_06213A_CD75.SAFE.zip\")\n",
    "post_event = load_sar_data(\"D:\\SAR\\BARC\\postMonsoon\\S1A_IW_SLC__1SDV_20231102T010332_20231102T010359_051031_062740_1C6B.SAFE.zip\")"
   ]
  },
  {
   "cell_type": "markdown",
   "id": "7f029ac9-915d-4bc8-ae13-b4bb462ef6ee",
   "metadata": {},
   "source": [
    "## Apply Orbit File"
   ]
  },
  {
   "cell_type": "code",
   "execution_count": 59,
   "id": "62009535-e31c-4f9d-b9a9-bad0f7808382",
   "metadata": {},
   "outputs": [],
   "source": [
    "params_orbit = {'orbitType': 'Sentinel Precise (Auto Download)'}\n",
    "pre_event = apply_operator('Apply-Orbit-File', params_orbit, pre_event)\n",
    "post_event = apply_operator('Apply-Orbit-File', params_orbit, post_event)"
   ]
  },
  {
   "cell_type": "markdown",
   "id": "21f31ca9-92c9-4bd8-8709-0c118ee0085b",
   "metadata": {},
   "source": [
    "## TOPSAR SPLIT"
   ]
  },
  {
   "cell_type": "code",
   "execution_count": 60,
   "id": "e079a53f-916c-4c50-b69b-8f5cc345cd4e",
   "metadata": {},
   "outputs": [],
   "source": [
    "# Only needed if AOI spans multiple subswaths (BARC is in IW2)\n",
    "params_split = {'subswath': 'IW2', 'selectedPolarisations': 'VV'}\n",
    "pre_event_split = apply_operator('TOPSAR-Split', params_split, pre_event)\n",
    "post_event_split = apply_operator('TOPSAR-Split', params_split, post_event)"
   ]
  },
  {
   "cell_type": "markdown",
   "id": "7f3650a9-0695-43d1-b374-abd9f19c9408",
   "metadata": {},
   "source": [
    "## Coregisteration and ESD"
   ]
  },
  {
   "cell_type": "code",
   "execution_count": 61,
   "id": "e3444df6-671d-45a1-a9d3-70d08385e1d0",
   "metadata": {},
   "outputs": [],
   "source": [
    "params_coreg = {\n",
    "    'initialOffsetMethod': 'Orbit',  # Use orbit for initial offset\n",
    "    'esdThreshold': 0.25,  # Enable ESD for fine coregistration\n",
    "    'demName': 'SRTM 1Sec HGT'\n",
    "}\n",
    "coregistered = apply_operator('Back-Geocoding', params_coreg, pre_event_split, post_event_split)"
   ]
  },
  {
   "cell_type": "markdown",
   "id": "d9149488-330c-4683-be37-5987fa6db4b0",
   "metadata": {},
   "source": [
    "## ESD"
   ]
  },
  {
   "cell_type": "code",
   "execution_count": 62,
   "id": "802656a1-afba-4256-b935-377571cec7f1",
   "metadata": {},
   "outputs": [],
   "source": [
    "esd = apply_operator('Enhanced-Spectral-Diversity',{},coregistered)"
   ]
  },
  {
   "cell_type": "markdown",
   "id": "b99406df-5364-4dc5-94c7-557012609fc8",
   "metadata": {},
   "source": [
    "## Interferogram Generation"
   ]
  },
  {
   "cell_type": "code",
   "execution_count": 63,
   "id": "221bbe17-c555-4eb7-ba2e-3f983b04974a",
   "metadata": {},
   "outputs": [],
   "source": [
    "params_interferogram = {\n",
    "    'subtractFlatEarthPhase': True,\n",
    "    'degreeOfFreedom': 4  # For Goldstein filter later\n",
    "}\n",
    "interferogram = apply_operator('Interferogram', params_interferogram, esd)"
   ]
  },
  {
   "cell_type": "code",
   "execution_count": 64,
   "id": "480508ba-5ddd-4c26-af77-c75582c2cf65",
   "metadata": {},
   "outputs": [
    {
     "name": "stdout",
     "output_type": "stream",
     "text": [
      "Product Name: S1A_IW_SLC__1SDV_20231102T010332_20231102T010359_051031_062740_1C6B_Orb_Stack_Ifg\n",
      "Product Width: 25482\n",
      "Product Height: 13581\n",
      "Product Bands: ['i_ifg_IW2_VV_02Nov2023_21Oct2023', 'q_ifg_IW2_VV_02Nov2023_21Oct2023', 'Intensity_ifg_IW2_VV_02Nov2023_21Oct2023', 'Phase_ifg_IW2_VV_02Nov2023_21Oct2023', 'coh_IW2_VV_02Nov2023_21Oct2023']\n"
     ]
    }
   ],
   "source": [
    "print(f\"Product Name: {interferogram.getName()}\")\n",
    "print(f\"Product Width: {interferogram.getSceneRasterWidth()}\")\n",
    "print(f\"Product Height: {interferogram.getSceneRasterHeight()}\")\n",
    "print(f\"Product Bands: {list(interferogram.getBandNames())}\")\n"
   ]
  },
  {
   "cell_type": "markdown",
   "id": "99a526d7-a053-4713-88a1-d5fc6fec1887",
   "metadata": {},
   "source": [
    "## TOPSAR DEBURST"
   ]
  },
  {
   "cell_type": "code",
   "execution_count": 65,
   "id": "beb13450-8ad3-45dc-801b-606e74d24ac6",
   "metadata": {},
   "outputs": [
    {
     "data": {
      "text/plain": [
       "['i_ifg_IW2_VV_02Nov2023_21Oct2023',\n",
       " 'q_ifg_IW2_VV_02Nov2023_21Oct2023',\n",
       " 'Intensity_ifg_IW2_VV_02Nov2023_21Oct2023',\n",
       " 'Phase_ifg_IW2_VV_02Nov2023_21Oct2023',\n",
       " 'coh_IW2_VV_02Nov2023_21Oct2023']"
      ]
     },
     "execution_count": 65,
     "metadata": {},
     "output_type": "execute_result"
    }
   ],
   "source": [
    "deburst = apply_operator('TOPSAR-Deburst', {}, interferogram)\n",
    "list(deburst.getBandNames())"
   ]
  },
  {
   "cell_type": "markdown",
   "id": "be49aaa0-1315-413c-baf2-23279bb96f0e",
   "metadata": {},
   "source": [
    "## Topographic Phase Removal"
   ]
  },
  {
   "cell_type": "code",
   "execution_count": 66,
   "id": "09f49ad6-6b5c-4a1a-9a4f-37b92465e3eb",
   "metadata": {},
   "outputs": [
    {
     "data": {
      "text/plain": [
       "['i_ifg_VV_02Nov2023_21Oct2023',\n",
       " 'q_ifg_VV_02Nov2023_21Oct2023',\n",
       " 'Intensity_ifg_VV_02Nov2023_21Oct2023_ifg_srd_VV_02Nov2023_21Oct2023',\n",
       " 'Phase_ifg_srd_VV_02Nov2023_21Oct2023',\n",
       " 'coh_IW2_VV_02Nov2023_21Oct2023']"
      ]
     },
     "execution_count": 66,
     "metadata": {},
     "output_type": "execute_result"
    }
   ],
   "source": [
    "params_topo = {\n",
    "    'demName': 'SRTM 1Sec HGT'\n",
    "}\n",
    "topo_removed = apply_operator('TopoPhaseRemoval', params_topo, deburst)\n",
    "list(topo_removed.getBandNames())"
   ]
  },
  {
   "cell_type": "markdown",
   "id": "dbe1fd7a-7e29-4176-8d22-c7c454b122cb",
   "metadata": {},
   "source": [
    "## Multilooking"
   ]
  },
  {
   "cell_type": "code",
   "execution_count": 67,
   "id": "0acc883f-5a5e-4f7c-86ef-9fde3f4fa17d",
   "metadata": {},
   "outputs": [
    {
     "data": {
      "text/plain": [
       "['i_ifg_VV_02Nov2023_21Oct2023',\n",
       " 'q_ifg_VV_02Nov2023_21Oct2023',\n",
       " 'coh_IW2_VV_02Nov2023_21Oct2023',\n",
       " 'Intensity_ifg_VV_02Nov2023_21Oct2023_ifg_srd_VV_02Nov2023_21Oct2023',\n",
       " 'Phase_ifg_srd_VV_02Nov2023_21Oct2023']"
      ]
     },
     "execution_count": 67,
     "metadata": {},
     "output_type": "execute_result"
    }
   ],
   "source": [
    "params_multilook = {\n",
    "    'nRgLooks': Integer(2),  # Range looks\n",
    "    'nAzLooks': Integer(2)   # Azimuth looks\n",
    "}\n",
    "multilooked = apply_operator('Multilook', params_multilook, topo_removed)\n",
    "list(multilooked.getBandNames())"
   ]
  },
  {
   "cell_type": "markdown",
   "id": "6b45a245-ab6d-4c88-ac53-0081e84e3b24",
   "metadata": {},
   "source": [
    "## Goldstein Filtering"
   ]
  },
  {
   "cell_type": "code",
   "execution_count": 68,
   "id": "eb28d75e-2345-4042-a3fb-aea56ff0c5d7",
   "metadata": {},
   "outputs": [],
   "source": [
    "params_goldstein = {\n",
    "    'alpha': 0.5,  # Filter strength\n",
    "    'windowSize': 32\n",
    "}\n",
    "filtered = apply_operator('GoldsteinPhaseFiltering', params_goldstein, multilooked)"
   ]
  },
  {
   "cell_type": "code",
   "execution_count": 69,
   "id": "7c37591d-a839-4eb6-b0ee-085cb31802d1",
   "metadata": {},
   "outputs": [
    {
     "data": {
      "text/plain": [
       "['i_ifg_VV_02Nov2023_21Oct2023',\n",
       " 'q_ifg_VV_02Nov2023_21Oct2023',\n",
       " 'Intensity_ifg_VV_02Nov2023_21Oct2023_db',\n",
       " 'Phase_ifg_VV_02Nov2023_21Oct2023',\n",
       " 'coh_IW2_VV_02Nov2023_21Oct2023']"
      ]
     },
     "execution_count": 69,
     "metadata": {},
     "output_type": "execute_result"
    }
   ],
   "source": [
    "list(filtered.getBandNames())"
   ]
  },
  {
   "cell_type": "markdown",
   "id": "a1c256a1-5416-4298-af50-09db16fd8277",
   "metadata": {},
   "source": [
    " ## Subsetting AOI"
   ]
  },
  {
   "cell_type": "code",
   "execution_count": 70,
   "id": "5f1e492e-d174-4a2e-8374-24720e675cf2",
   "metadata": {},
   "outputs": [],
   "source": [
    "subset_params = {\n",
    "    'geoRegion': barc_aoi,       # WKT polygon of AOI\n",
    "    'copyMetadata': True,        # Preserve metadata (critical for InSAR)\n",
    "    'fullSwath': False,          # Crop strictly to AOI (no extra pixels)\n",
    "}"
   ]
  },
  {
   "cell_type": "code",
   "execution_count": 71,
   "id": "91dbc19e-5fe2-403b-93b3-334b2d9b2508",
   "metadata": {},
   "outputs": [],
   "source": [
    "subset = apply_operator('Subset',subset_params, filtered)"
   ]
  },
  {
   "cell_type": "code",
   "execution_count": 72,
   "id": "1709abe3-d958-4d0a-b2e7-a2b3b4f1adfe",
   "metadata": {},
   "outputs": [],
   "source": [
    "#ProductIO.writeProduct(subset, os.path.join(r\"D:\\SAR\\BARC\\subset\",'subset.dim'),'BEAM-DIMAP')"
   ]
  },
  {
   "cell_type": "code",
   "execution_count": 73,
   "id": "70b585dc-8641-4c5b-90d3-7e54e0740b3f",
   "metadata": {},
   "outputs": [],
   "source": [
    "subset_disk = ProductIO.readProduct(\"D:\\SAR\\BARC\\subset\\subset.dim\")"
   ]
  },
  {
   "cell_type": "markdown",
   "id": "380800d3-1436-45fa-a27e-b0f277443dad",
   "metadata": {},
   "source": [
    "## SNAPHU Export"
   ]
  },
  {
   "cell_type": "code",
   "execution_count": 152,
   "id": "ad6f5bca-30f6-457f-abdb-da6f9d72131d",
   "metadata": {},
   "outputs": [],
   "source": [
    "export_params = {\n",
    "    'numberOfTileCols': Integer(5),\n",
    "    'numberOfTileRows': Integer(5),# Increase the tile size to 500 pixels\n",
    "    'colOverlap': Integer(20),       # Overlap of 50 pixels in columns\n",
    "    'rowOverlap': Integer(20),       # Overlap of 50 pixels in rows\n",
    "    'initMethod': 'MST',\n",
    "    'statCostMode': 'DEFO',\n",
    "    'targetFolder': r\"D:\\SAR\\BARC\\trial\",\n",
    "    'useCoherence' : True,\n",
    "    'cohFile' : True\n",
    "}\n",
    "\n",
    "snaphu_export = apply_operator('SnaphuExport', export_params, subset_disk)\n",
    "ProductIO.writeProduct(snaphu_export, r'D:\\SAR\\BARC\\TTrial','snaphu')"
   ]
  },
  {
   "cell_type": "code",
   "execution_count": 153,
   "id": "735e810b-8980-40a2-afc5-15bcdad2268a",
   "metadata": {},
   "outputs": [],
   "source": [
    "ProductIO.writeProduct(snaphu_export,os.path.join( r'D:\\SAR\\BARC\\TTrial','TTrial.dim'),'BEAM-DIMAP')"
   ]
  },
  {
   "cell_type": "code",
   "execution_count": 154,
   "id": "e23e7181-d51b-44b6-aa3e-82aa003ebd13",
   "metadata": {},
   "outputs": [],
   "source": [
    "Product_ = ProductIO.readProduct(\"D:\\SAR\\BARC\\TTrial\\TTrial.dim\")\n"
   ]
  },
  {
   "cell_type": "code",
   "execution_count": 155,
   "id": "28c8aa30-5a20-48cb-be17-1e4e859aa541",
   "metadata": {},
   "outputs": [
    {
     "data": {
      "text/plain": [
       "['Phase_ifg_VV_02Nov2023_21Oct2023', 'coh_IW2_VV_02Nov2023_21Oct2023']"
      ]
     },
     "execution_count": 155,
     "metadata": {},
     "output_type": "execute_result"
    }
   ],
   "source": [
    "list(Product_.getBandNames())"
   ]
  },
  {
   "cell_type": "markdown",
   "id": "0ccfe0e8-58be-4f82-8d3f-25df3ab819fa",
   "metadata": {},
   "source": [
    "## SNAPHU Unwrapping"
   ]
  },
  {
   "cell_type": "code",
   "execution_count": 156,
   "id": "14ae3c30-eba0-45e0-ab3b-23ece9f6266b",
   "metadata": {
    "scrolled": true
   },
   "outputs": [
    {
     "data": {
      "text/plain": [
       "282"
      ]
     },
     "execution_count": 156,
     "metadata": {},
     "output_type": "execute_result"
    }
   ],
   "source": [
    "width = Product_.getSceneRasterWidth()\n",
    "width"
   ]
  },
  {
   "cell_type": "code",
   "execution_count": 157,
   "id": "2b5f6aed-2d3b-4507-823d-81d143c5557f",
   "metadata": {},
   "outputs": [],
   "source": [
    "tempFolder = \"D:\\SAR\\BARC\\TTrial\""
   ]
  },
  {
   "cell_type": "code",
   "execution_count": 158,
   "id": "700ca965-ef05-44fb-89c5-9dcb8db5123d",
   "metadata": {},
   "outputs": [],
   "source": [
    "os.chdir (tempFolder)"
   ]
  },
  {
   "cell_type": "code",
   "execution_count": 159,
   "id": "65aa14f1-3790-458c-b6e4-3cad2362edd1",
   "metadata": {},
   "outputs": [],
   "source": [
    "snaphu_dir = r\"C:\\Users\\gunda\\.snap\\auxdata\\snaphu-v2.0.4_win64\\bin\\snaphu.exe\""
   ]
  },
  {
   "cell_type": "code",
   "execution_count": 160,
   "id": "cc5fad67-9a61-4dda-a459-9f3c7062fb13",
   "metadata": {},
   "outputs": [
    {
     "data": {
      "text/plain": [
       "0"
      ]
     },
     "execution_count": 160,
     "metadata": {},
     "output_type": "execute_result"
    }
   ],
   "source": [
    "os.system(snaphu_dir + ' -f snaphu.conf ' + 'Phase_ifg_VV_02Nov2023_21Oct2023.snaphu.img' + ' ' + str(width))"
   ]
  },
  {
   "cell_type": "markdown",
   "id": "61d6ad9e-0ffc-4e1b-bcaa-4a1434f1ae53",
   "metadata": {},
   "source": [
    "## SNAPHU Import"
   ]
  },
  {
   "cell_type": "code",
   "execution_count": 175,
   "id": "c2fa1597-c241-4eed-8d06-9f92b510c624",
   "metadata": {},
   "outputs": [],
   "source": [
    "Files = jpy.array('org.esa.snap.core.datamodel.Product', 2)"
   ]
  },
  {
   "cell_type": "code",
   "execution_count": 176,
   "id": "e2456835-ca40-47c7-b8e2-283139aaa77b",
   "metadata": {},
   "outputs": [],
   "source": [
    "Files[0] = ProductIO.readProduct(\"D:\\SAR\\BARC\\subset\\subset.dim\")"
   ]
  },
  {
   "cell_type": "code",
   "execution_count": 177,
   "id": "24efd62e-6692-4e00-8ab4-b3f9d569b8d4",
   "metadata": {},
   "outputs": [],
   "source": [
    "Files[1] = ProductIO.readProduct(r\"D:\\SAR\\BARC\\TTrial\\UnwPhase_ifg_VV_02Nov2023_21Oct2023.snaphu.hdr\")"
   ]
  },
  {
   "cell_type": "code",
   "execution_count": 178,
   "id": "4c5163aa-ce0d-4a1d-9fd0-6afc27cd482a",
   "metadata": {},
   "outputs": [],
   "source": [
    "HashMap     = jpy.get_type(\"java.util.HashMap\")\n",
    "params      = HashMap()\n",
    "Product     = GPF.createProduct(\"SnaphuImport\", params, Files)"
   ]
  },
  {
   "cell_type": "code",
   "execution_count": 179,
   "id": "b9ad3d49-c121-4a23-80c2-86a7f66e78a4",
   "metadata": {},
   "outputs": [],
   "source": [
    "#ProductIO.writeProduct(Product, os.path.join(\"D:\\SAR\\BARC\\output\",'SnaphuImport.dim'), \"BEAM-DIMAP\")"
   ]
  },
  {
   "cell_type": "markdown",
   "id": "a2b52642-c684-429d-80ea-1016d9d26e58",
   "metadata": {},
   "source": [
    "## Phase To Displacement and Terrain Correction"
   ]
  },
  {
   "cell_type": "code",
   "execution_count": 180,
   "id": "9685baf1-d5a6-49ed-b3bd-592ddb0091d8",
   "metadata": {},
   "outputs": [],
   "source": [
    "displacement = apply_operator(\"PhaseToDisplacement\",{},Product)"
   ]
  },
  {
   "cell_type": "code",
   "execution_count": 182,
   "id": "dd8dbe8e-6a9e-4801-9f32-06f882bdd500",
   "metadata": {},
   "outputs": [],
   "source": [
    "params_tc = {\n",
    "    \"demName\": \"SRTM 1Sec HGT\",\n",
    "    \"pixelSpacingInMeter\": 10.0\n",
    "}\n",
    "tc = apply_operator('Terrain-Correction',params_tc, displacement)"
   ]
  },
  {
   "cell_type": "code",
   "execution_count": 1,
   "id": "fa05a382-d914-4b0d-bc8a-cfb5e2431380",
   "metadata": {},
   "outputs": [],
   "source": [
    "#kmz_output = os.path.join(r\"C:\\Users\\gunda\\Desktop\\subsidence\", \"subsidence.kmz\")\n",
    "#ProductIO.writeProduct(tc, kmz_output, \"BEAM-DIMAP\")"
   ]
  },
  {
   "cell_type": "code",
   "execution_count": null,
   "id": "0dc57b73-94f5-4839-b678-e11d097a53cc",
   "metadata": {},
   "outputs": [],
   "source": []
  },
  {
   "cell_type": "code",
   "execution_count": null,
   "id": "ddbbb6d8-ec24-45ab-aba8-68ea11c562eb",
   "metadata": {},
   "outputs": [],
   "source": []
  },
  {
   "cell_type": "code",
   "execution_count": null,
   "id": "16fc43bd-1d3d-462d-9775-7ae9c8832109",
   "metadata": {},
   "outputs": [],
   "source": []
  },
  {
   "cell_type": "code",
   "execution_count": null,
   "id": "4fb39b28-ace4-449c-835a-da7932da8c5f",
   "metadata": {},
   "outputs": [],
   "source": []
  },
  {
   "cell_type": "code",
   "execution_count": null,
   "id": "272f6cd1-398e-484f-964b-7159e721ffc1",
   "metadata": {},
   "outputs": [],
   "source": []
  },
  {
   "cell_type": "code",
   "execution_count": null,
   "id": "23eec65a-3dd4-4d57-8e86-300655786a78",
   "metadata": {},
   "outputs": [],
   "source": []
  }
 ],
 "metadata": {
  "kernelspec": {
   "display_name": "Python 3.6 (System)",
   "language": "python",
   "name": "python3.6"
  },
  "language_info": {
   "codemirror_mode": {
    "name": "ipython",
    "version": 3
   },
   "file_extension": ".py",
   "mimetype": "text/x-python",
   "name": "python",
   "nbconvert_exporter": "python",
   "pygments_lexer": "ipython3",
   "version": "3.6.0"
  }
 },
 "nbformat": 4,
 "nbformat_minor": 5
}
